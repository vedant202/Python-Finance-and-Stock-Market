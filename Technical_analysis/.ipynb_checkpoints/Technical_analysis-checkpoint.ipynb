{
 "cells": [
  {
   "cell_type": "code",
   "execution_count": 12,
   "id": "5052befd",
   "metadata": {},
   "outputs": [],
   "source": [
    "import numpy as np\n",
    "import pandas as pd\n",
    "import talib as tb\n",
    "from pandas_datareader.data import get_data_yahoo\n",
    "import yfinance\n",
    "import datetime as dt\n",
    "import matplotlib.pyplot as plt\n",
    "\n",
    "yfinance.pdr_override()"
   ]
  },
  {
   "cell_type": "code",
   "execution_count": 22,
   "id": "6d511395",
   "metadata": {},
   "outputs": [
    {
     "name": "stdout",
     "output_type": "stream",
     "text": [
      "[*********************100%***********************]  1 of 1 completed\n"
     ]
    }
   ],
   "source": [
    "company = \"TATAMOTORS.NS\"\n",
    "tm_data = get_data_yahoo(\"TATAMOTORS.NS\")"
   ]
  },
  {
   "cell_type": "code",
   "execution_count": 23,
   "id": "c4aa0389",
   "metadata": {},
   "outputs": [
    {
     "data": {
      "text/html": [
       "<div>\n",
       "<style scoped>\n",
       "    .dataframe tbody tr th:only-of-type {\n",
       "        vertical-align: middle;\n",
       "    }\n",
       "\n",
       "    .dataframe tbody tr th {\n",
       "        vertical-align: top;\n",
       "    }\n",
       "\n",
       "    .dataframe thead th {\n",
       "        text-align: right;\n",
       "    }\n",
       "</style>\n",
       "<table border=\"1\" class=\"dataframe\">\n",
       "  <thead>\n",
       "    <tr style=\"text-align: right;\">\n",
       "      <th></th>\n",
       "      <th>Open</th>\n",
       "      <th>High</th>\n",
       "      <th>Low</th>\n",
       "      <th>Close</th>\n",
       "      <th>Adj Close</th>\n",
       "      <th>Volume</th>\n",
       "    </tr>\n",
       "    <tr>\n",
       "      <th>Date</th>\n",
       "      <th></th>\n",
       "      <th></th>\n",
       "      <th></th>\n",
       "      <th></th>\n",
       "      <th></th>\n",
       "      <th></th>\n",
       "    </tr>\n",
       "  </thead>\n",
       "  <tbody>\n",
       "    <tr>\n",
       "      <th>2023-01-23</th>\n",
       "      <td>407.000000</td>\n",
       "      <td>410.950012</td>\n",
       "      <td>405.000000</td>\n",
       "      <td>408.399994</td>\n",
       "      <td>408.399994</td>\n",
       "      <td>13113183</td>\n",
       "    </tr>\n",
       "    <tr>\n",
       "      <th>2023-01-24</th>\n",
       "      <td>410.000000</td>\n",
       "      <td>424.000000</td>\n",
       "      <td>410.000000</td>\n",
       "      <td>422.149994</td>\n",
       "      <td>422.149994</td>\n",
       "      <td>30197475</td>\n",
       "    </tr>\n",
       "    <tr>\n",
       "      <th>2023-01-25</th>\n",
       "      <td>423.750000</td>\n",
       "      <td>427.250000</td>\n",
       "      <td>417.700012</td>\n",
       "      <td>419.049988</td>\n",
       "      <td>419.049988</td>\n",
       "      <td>22975581</td>\n",
       "    </tr>\n",
       "    <tr>\n",
       "      <th>2023-01-27</th>\n",
       "      <td>438.000000</td>\n",
       "      <td>453.399994</td>\n",
       "      <td>435.149994</td>\n",
       "      <td>445.600006</td>\n",
       "      <td>445.600006</td>\n",
       "      <td>63360467</td>\n",
       "    </tr>\n",
       "    <tr>\n",
       "      <th>2023-01-30</th>\n",
       "      <td>445.600006</td>\n",
       "      <td>450.000000</td>\n",
       "      <td>437.649994</td>\n",
       "      <td>443.649994</td>\n",
       "      <td>443.649994</td>\n",
       "      <td>18312170</td>\n",
       "    </tr>\n",
       "  </tbody>\n",
       "</table>\n",
       "</div>"
      ],
      "text/plain": [
       "                  Open        High         Low       Close   Adj Close    Volume\n",
       "Date                                                                            \n",
       "2023-01-23  407.000000  410.950012  405.000000  408.399994  408.399994  13113183\n",
       "2023-01-24  410.000000  424.000000  410.000000  422.149994  422.149994  30197475\n",
       "2023-01-25  423.750000  427.250000  417.700012  419.049988  419.049988  22975581\n",
       "2023-01-27  438.000000  453.399994  435.149994  445.600006  445.600006  63360467\n",
       "2023-01-30  445.600006  450.000000  437.649994  443.649994  443.649994  18312170"
      ]
     },
     "execution_count": 23,
     "metadata": {},
     "output_type": "execute_result"
    }
   ],
   "source": [
    "tm_data.tail()"
   ]
  },
  {
   "cell_type": "code",
   "execution_count": 24,
   "id": "cc32bbbc",
   "metadata": {},
   "outputs": [],
   "source": [
    "data = tm_data.copy()\n",
    "data['SMA_100'] = tb.SMA(data['Close'],50)"
   ]
  },
  {
   "cell_type": "code",
   "execution_count": 27,
   "id": "b102a020",
   "metadata": {},
   "outputs": [
    {
     "data": {
      "image/png": "[encoded data removed]",
      "text/plain": [
       "<Figure size 432x288 with 1 Axes>"
      ]
     },
     "metadata": {
      "needs_background": "light"
     },
     "output_type": "display_data"
    },
    {
     "data": {
      "text/plain": [
       "<Figure size 432x288 with 0 Axes>"
      ]
     },
     "metadata": {},
     "output_type": "display_data"
    }
   ],
   "source": [
    "plt.plot(data['Close'])\n",
    "plt.plot(data['SMA_100'])\n",
    "\n"
   ]
  },
  {
   "cell_type": "code",
   "execution_count": 28,
   "id": "7edd0ff5",
   "metadata": {},
   "outputs": [
    {
     "data": {
      "text/plain": [
       "<Figure size 432x288 with 0 Axes>"
      ]
     },
     "metadata": {},
     "output_type": "display_data"
    }
   ],
   "source": [
    "plt.savefig(f\"50 days SMA {company}.jpg\")"
   ]
  },
  {
   "cell_type": "code",
   "execution_count": null,
   "id": "cef88cf4",
   "metadata": {},
   "outputs": [],
   "source": []
  }
 ],
 "metadata": {
  "kernelspec": {
   "display_name": "Python 3 (ipykernel)",
   "language": "python",
   "name": "python3"
  },
  "language_info": {
   "codemirror_mode": {
    "name": "ipython",
    "version": 3
   },
   "file_extension": ".py",
   "mimetype": "text/x-python",
   "name": "python",
   "nbconvert_exporter": "python",
   "pygments_lexer": "ipython3",
   "version": "3.9.6"
  }
 },
 "nbformat": 4,
 "nbformat_minor": 5
}
