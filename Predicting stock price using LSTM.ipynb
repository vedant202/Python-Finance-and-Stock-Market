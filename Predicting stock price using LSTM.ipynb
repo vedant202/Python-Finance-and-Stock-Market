{
 "cells": [
  {
   "cell_type": "code",
   "execution_count": 40,
   "id": "39377cb7",
   "metadata": {},
   "outputs": [],
   "source": [
    "import numpy as np\n",
    "import pandas as pd\n",
    "import matplotlib.pyplot as plt\n",
    "import pandas_datareader.data as web\n",
    "import datetime as dt\n",
    "\n",
    "from sklearn.preprocessing import MinMaxScaler\n",
    "from tensorflow.keras.models import Sequential\n",
    "from tensorflow.keras.layers import Dense,Dropout,LSTM\n",
    "import yfinance\n"
   ]
  },
  {
   "cell_type": "code",
   "execution_count": 41,
   "id": "2e016fa7",
   "metadata": {},
   "outputs": [
    {
     "name": "stdout",
     "output_type": "stream",
     "text": [
      "[*********************100%***********************]  1 of 1 completed\n"
     ]
    }
   ],
   "source": [
    "yfinance.pdr_override()\n",
    "company = \"RELIANCE.NS\"\n",
    "start = \"2013-1-1\"\n",
    "end = \"2022-1-1\"\n",
    "df = web.get_data_yahoo(company,start=start,end=end)\n"
   ]
  },
  {
   "cell_type": "code",
   "execution_count": 42,
   "id": "e25ff164",
   "metadata": {},
   "outputs": [
    {
     "data": {
      "text/html": [
       "<div>\n",
       "<style scoped>\n",
       "    .dataframe tbody tr th:only-of-type {\n",
       "        vertical-align: middle;\n",
       "    }\n",
       "\n",
       "    .dataframe tbody tr th {\n",
       "        vertical-align: top;\n",
       "    }\n",
       "\n",
       "    .dataframe thead th {\n",
       "        text-align: right;\n",
       "    }\n",
       "</style>\n",
       "<table border=\"1\" class=\"dataframe\">\n",
       "  <thead>\n",
       "    <tr style=\"text-align: right;\">\n",
       "      <th></th>\n",
       "      <th>Open</th>\n",
       "      <th>High</th>\n",
       "      <th>Low</th>\n",
       "      <th>Close</th>\n",
       "      <th>Adj Close</th>\n",
       "      <th>Volume</th>\n",
       "    </tr>\n",
       "    <tr>\n",
       "      <th>Date</th>\n",
       "      <th></th>\n",
       "      <th></th>\n",
       "      <th></th>\n",
       "      <th></th>\n",
       "      <th></th>\n",
       "      <th></th>\n",
       "    </tr>\n",
       "  </thead>\n",
       "  <tbody>\n",
       "    <tr>\n",
       "      <th>2021-12-27</th>\n",
       "      <td>2361.550049</td>\n",
       "      <td>2378.000000</td>\n",
       "      <td>2348.100098</td>\n",
       "      <td>2370.250000</td>\n",
       "      <td>2363.135254</td>\n",
       "      <td>1853948</td>\n",
       "    </tr>\n",
       "    <tr>\n",
       "      <th>2021-12-28</th>\n",
       "      <td>2375.600098</td>\n",
       "      <td>2404.850098</td>\n",
       "      <td>2373.050049</td>\n",
       "      <td>2398.399902</td>\n",
       "      <td>2391.200684</td>\n",
       "      <td>2941883</td>\n",
       "    </tr>\n",
       "    <tr>\n",
       "      <th>2021-12-29</th>\n",
       "      <td>2391.000000</td>\n",
       "      <td>2419.000000</td>\n",
       "      <td>2382.100098</td>\n",
       "      <td>2402.500000</td>\n",
       "      <td>2395.288330</td>\n",
       "      <td>7118779</td>\n",
       "    </tr>\n",
       "    <tr>\n",
       "      <th>2021-12-30</th>\n",
       "      <td>2400.000000</td>\n",
       "      <td>2404.949951</td>\n",
       "      <td>2345.600098</td>\n",
       "      <td>2359.100098</td>\n",
       "      <td>2352.018799</td>\n",
       "      <td>13537254</td>\n",
       "    </tr>\n",
       "    <tr>\n",
       "      <th>2021-12-31</th>\n",
       "      <td>2373.000000</td>\n",
       "      <td>2383.899902</td>\n",
       "      <td>2360.000000</td>\n",
       "      <td>2368.149902</td>\n",
       "      <td>2361.041504</td>\n",
       "      <td>4373768</td>\n",
       "    </tr>\n",
       "  </tbody>\n",
       "</table>\n",
       "</div>"
      ],
      "text/plain": [
       "                   Open         High          Low        Close    Adj Close  \\\n",
       "Date                                                                          \n",
       "2021-12-27  2361.550049  2378.000000  2348.100098  2370.250000  2363.135254   \n",
       "2021-12-28  2375.600098  2404.850098  2373.050049  2398.399902  2391.200684   \n",
       "2021-12-29  2391.000000  2419.000000  2382.100098  2402.500000  2395.288330   \n",
       "2021-12-30  2400.000000  2404.949951  2345.600098  2359.100098  2352.018799   \n",
       "2021-12-31  2373.000000  2383.899902  2360.000000  2368.149902  2361.041504   \n",
       "\n",
       "              Volume  \n",
       "Date                  \n",
       "2021-12-27   1853948  \n",
       "2021-12-28   2941883  \n",
       "2021-12-29   7118779  \n",
       "2021-12-30  13537254  \n",
       "2021-12-31   4373768  "
      ]
     },
     "execution_count": 42,
     "metadata": {},
     "output_type": "execute_result"
    }
   ],
   "source": [
    "df.tail()"
   ]
  },
  {
   "cell_type": "code",
   "execution_count": 43,
   "id": "c404c935",
   "metadata": {},
   "outputs": [],
   "source": [
    "scaler = MinMaxScaler(feature_range=(0,1))"
   ]
  },
  {
   "cell_type": "code",
   "execution_count": 44,
   "id": "c11f2b18",
   "metadata": {},
   "outputs": [
    {
     "data": {
      "text/plain": [
       "count    2220.000000\n",
       "mean      986.808473\n",
       "std       629.601374\n",
       "min       380.171356\n",
       "25%       472.991501\n",
       "50%       714.527008\n",
       "75%      1327.305939\n",
       "max      2731.850098\n",
       "Name: Close, dtype: float64"
      ]
     },
     "execution_count": 44,
     "metadata": {},
     "output_type": "execute_result"
    }
   ],
   "source": [
    "df['Close'].describe()"
   ]
  },
  {
   "cell_type": "code",
   "execution_count": 45,
   "id": "2bf2500a",
   "metadata": {},
   "outputs": [
    {
     "data": {
      "text/plain": [
       "(2220,)"
      ]
     },
     "execution_count": 45,
     "metadata": {},
     "output_type": "execute_result"
    }
   ],
   "source": [
    "df['Close'].shape"
   ]
  },
  {
   "cell_type": "code",
   "execution_count": 46,
   "id": "254bc5ad",
   "metadata": {},
   "outputs": [],
   "source": [
    "reshape_close = df['Close'].values.reshape(-1,1)"
   ]
  },
  {
   "cell_type": "code",
   "execution_count": 47,
   "id": "9a635645",
   "metadata": {},
   "outputs": [
    {
     "name": "stdout",
     "output_type": "stream",
     "text": [
      "[[ 416.40292358]\n",
      " [ 419.99386597]\n",
      " [ 426.33377075]\n",
      " ...\n",
      " [2402.5       ]\n",
      " [2359.10009766]\n",
      " [2368.14990234]]\n"
     ]
    }
   ],
   "source": [
    "print(reshape_close)"
   ]
  },
  {
   "cell_type": "code",
   "execution_count": 48,
   "id": "1e331af2",
   "metadata": {},
   "outputs": [],
   "source": [
    "scaled_data = scaler.fit_transform(reshape_close)"
   ]
  },
  {
   "cell_type": "code",
   "execution_count": 49,
   "id": "838d7ea1",
   "metadata": {},
   "outputs": [
    {
     "data": {
      "text/plain": [
       "array([[0.01540668],\n",
       "       [0.01693365],\n",
       "       [0.01962956],\n",
       "       ...,\n",
       "       [0.85995107],\n",
       "       [0.84149621],\n",
       "       [0.84534444]])"
      ]
     },
     "execution_count": 49,
     "metadata": {},
     "output_type": "execute_result"
    }
   ],
   "source": [
    "scaled_data"
   ]
  },
  {
   "cell_type": "code",
   "execution_count": 50,
   "id": "c075d02f",
   "metadata": {},
   "outputs": [],
   "source": [
    "prediction_days = 60\n",
    "x_train = []\n",
    "y_train = []\n",
    "for x in range(prediction_days,len(scaled_data)):\n",
    "    x_train.append(scaled_data[x-prediction_days:x,0])\n",
    "    y_train.append(scaled_data[x,0])"
   ]
  },
  {
   "cell_type": "code",
   "execution_count": 67,
   "id": "2b7901b5",
   "metadata": {},
   "outputs": [
    {
     "name": "stdout",
     "output_type": "stream",
     "text": [
      "(2160, 60) (2160,)\n"
     ]
    }
   ],
   "source": [
    "print(x_train.shape,y_train.shape)\n",
    "# print(x_train[0:2])"
   ]
  },
  {
   "cell_type": "code",
   "execution_count": 68,
   "id": "bf7b5f57",
   "metadata": {},
   "outputs": [],
   "source": [
    "x_train,y_train = np.array(x_train),np.array(y_train)"
   ]
  },
  {
   "cell_type": "code",
   "execution_count": 72,
   "id": "4df0cfba",
   "metadata": {},
   "outputs": [
    {
     "data": {
      "text/plain": [
       "(2160, 60)"
      ]
     },
     "execution_count": 72,
     "metadata": {},
     "output_type": "execute_result"
    }
   ],
   "source": [
    "x_train.shape"
   ]
  },
  {
   "cell_type": "code",
   "execution_count": 73,
   "id": "c267c24a",
   "metadata": {},
   "outputs": [],
   "source": [
    "x_train = np.reshape(x_train,(x_train.shape[0],x_train.shape[1],1))"
   ]
  },
  {
   "cell_type": "code",
   "execution_count": 81,
   "id": "1ad5b425",
   "metadata": {},
   "outputs": [
    {
     "data": {
      "text/plain": [
       "array([[[0.01540668],\n",
       "        [0.01693365],\n",
       "        [0.01962956],\n",
       "        ...,\n",
       "        [0.00948832],\n",
       "        [0.00906709],\n",
       "        [0.00878275]],\n",
       "\n",
       "       [[0.01693365],\n",
       "        [0.01962956],\n",
       "        [0.01986125],\n",
       "        ...,\n",
       "        [0.00906709],\n",
       "        [0.00878275],\n",
       "        [0.00332775]],\n",
       "\n",
       "       [[0.01962956],\n",
       "        [0.01986125],\n",
       "        [0.0187555 ],\n",
       "        ...,\n",
       "        [0.00878275],\n",
       "        [0.00332775],\n",
       "        [0.0011268 ]],\n",
       "\n",
       "       ...,\n",
       "\n",
       "       [[0.9114887 ],\n",
       "        [0.92528733],\n",
       "        [0.94784571],\n",
       "        ...,\n",
       "        [0.84732181],\n",
       "        [0.84623746],\n",
       "        [0.85820759]],\n",
       "\n",
       "       [[0.92528733],\n",
       "        [0.94784571],\n",
       "        [0.92686076],\n",
       "        ...,\n",
       "        [0.84623746],\n",
       "        [0.85820759],\n",
       "        [0.85995107]],\n",
       "\n",
       "       [[0.94784571],\n",
       "        [0.92686076],\n",
       "        [0.93219729],\n",
       "        ...,\n",
       "        [0.85820759],\n",
       "        [0.85995107],\n",
       "        [0.84149621]]])"
      ]
     },
     "execution_count": 81,
     "metadata": {},
     "output_type": "execute_result"
    }
   ],
   "source": [
    "x_train"
   ]
  },
  {
   "cell_type": "code",
   "execution_count": 82,
   "id": "5b5b38e5",
   "metadata": {},
   "outputs": [],
   "source": [
    "model = Sequential()"
   ]
  },
  {
   "cell_type": "code",
   "execution_count": null,
   "id": "86354395",
   "metadata": {},
   "outputs": [],
   "source": []
  }
 ],
 "metadata": {
  "kernelspec": {
   "display_name": "Python 3 (ipykernel)",
   "language": "python",
   "name": "python3"
  },
  "language_info": {
   "codemirror_mode": {
    "name": "ipython",
    "version": 3
   },
   "file_extension": ".py",
   "mimetype": "text/x-python",
   "name": "python",
   "nbconvert_exporter": "python",
   "pygments_lexer": "ipython3",
   "version": "3.9.6"
  }
 },
 "nbformat": 4,
 "nbformat_minor": 5
}
